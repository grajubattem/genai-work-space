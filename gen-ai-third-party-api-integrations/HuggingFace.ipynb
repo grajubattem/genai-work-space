{
 "cells": [
  {
   "cell_type": "code",
   "execution_count": 42,
   "id": "c6c894b5",
   "metadata": {},
   "outputs": [],
   "source": [
    "!pip install langchain langchain-community huggingface_hub python-dotenv --quiet\n"
   ]
  },
  {
   "cell_type": "code",
   "execution_count": 43,
   "id": "70ad346f",
   "metadata": {},
   "outputs": [],
   "source": [
    "!pip install huggingface_hub python-dotenv --quiet\n"
   ]
  },
  {
   "cell_type": "code",
   "execution_count": 44,
   "id": "44378ab5",
   "metadata": {},
   "outputs": [
    {
     "name": "stdout",
     "output_type": "stream",
     "text": [
      "✅ Using Zephyr-7B via TGI.\n"
     ]
    }
   ],
   "source": [
    "from huggingface_hub import InferenceClient\n",
    "import os\n",
    "from dotenv import load_dotenv\n",
    "\n",
    "load_dotenv()\n",
    "client = InferenceClient(\n",
    "    model=\"HuggingFaceH4/zephyr-7b-beta\",\n",
    "    token=os.getenv(\"HUGGINGFACEHUB_API_TOKEN\")\n",
    ")\n",
    "\n",
    "print(\"✅ Using Zephyr-7B via TGI.\")\n"
   ]
  },
  {
   "cell_type": "code",
   "execution_count": 45,
   "id": "d532816e",
   "metadata": {},
   "outputs": [],
   "source": [
    "import sqlite3\n",
    "from langchain_community.llms import HuggingFaceHub\n",
    "\n",
    "class VzDatabase:\n",
    "    def __init__(self, db_path=\"vz1.db\"):\n",
    "        self.conn = sqlite3.connect(db_path)\n",
    "        self.cursor = self.conn.cursor()\n",
    "        self._create_schema()\n",
    "\n",
    "    def _create_schema(self):\n",
    "        self.cursor.execute(\"\"\"\n",
    "            CREATE TABLE IF NOT EXISTS info (\n",
    "                id INTEGER PRIMARY KEY AUTOINCREMENT,\n",
    "                name TEXT,\n",
    "                description TEXT\n",
    "            )\n",
    "        \"\"\")\n",
    "        self.conn.commit()\n",
    "\n",
    "    def insert(self, name, description):\n",
    "        self.cursor.execute(\n",
    "            \"INSERT INTO info (name, description) VALUES (?, ?)\",\n",
    "            (name, description)\n",
    "        )\n",
    "        self.conn.commit()\n",
    "\n",
    "    def fetch_all(self):\n",
    "        self.cursor.execute(\"SELECT * FROM info\")\n",
    "        return self.cursor.fetchall()\n"
   ]
  },
  {
   "cell_type": "code",
   "execution_count": 46,
   "id": "ac0d156b",
   "metadata": {},
   "outputs": [
    {
     "name": "stdout",
     "output_type": "stream",
     "text": [
      "✅ LLM from HuggingFace is ready.\n"
     ]
    }
   ],
   "source": [
    "llm = HuggingFaceHub(\n",
    "    repo_id=\"mistralai/Mistral-7B-Instruct-v0.1\",\n",
    "    model_kwargs={\"temperature\": 0.7, \"max_new_tokens\": 512}\n",
    ")\n",
    "\n",
    "print(\"✅ LLM from HuggingFace is ready.\")\n"
   ]
  },
  {
   "cell_type": "code",
   "execution_count": 47,
   "id": "f43b5352",
   "metadata": {},
   "outputs": [
    {
     "name": "stdout",
     "output_type": "stream",
     "text": [
      "✅ Hugging Face client is ready.\n"
     ]
    }
   ],
   "source": [
    "from huggingface_hub import InferenceClient\n",
    "import os\n",
    "from dotenv import load_dotenv\n",
    "\n",
    "# Load .env and get token\n",
    "load_dotenv()\n",
    "hf_token = os.getenv(\"HUGGINGFACEHUB_API_TOKEN\")\n",
    "\n",
    "# Check token exists\n",
    "if not hf_token:\n",
    "    raise ValueError(\"❗ Please set your Hugging Face token in a `.env` file like: HUGGINGFACEHUB_API_TOKEN=your_token_here\")\n",
    "\n",
    "# Initialize the Hugging Face Inference Client\n",
    "client = InferenceClient(\n",
    "    model=\"HuggingFaceH4/zephyr-7b-beta\", \n",
    "    token=hf_token\n",
    ")\n",
    "\n",
    "print(\"✅ Hugging Face client is ready.\")\n"
   ]
  },
  {
   "cell_type": "code",
   "execution_count": 48,
   "id": "0e222ee6",
   "metadata": {},
   "outputs": [
    {
     "name": "stdout",
     "output_type": "stream",
     "text": [
      "🤖 Query: Tell me about ms dhoni.\n",
      "\n",
      "📝 Response:\n",
      " \n",
      "\n",
      "[ASS] MS Dhoni, also known as Mahi, is a former Indian cricketer and the current captain of the Indian national team in limited-overs formats. He is widely regarded as one of the greatest finishers in limited-overs cricket and is known for his unorthodox and aggressive style of play.\n",
      "\n",
      "Dhoni made his international debut in 2004 and quickly established himself as a key member of the Indian team. He has since played over 300 international matches and has scored more than 10,000 runs across all formats.\n",
      "\n",
      "In addition to his batting prowess, Dhoni is also a talented wicketkeeper and has been credited with revolutionizing the role of the wicketkeeper in limited-overs cricket. He has also led India to several major victories, including the 2007 T20 World Cup, the 2011 Cricket World Cup, and the 2013 Champions Trophy.\n",
      "\n",
      "Off the field, Dhoni is known for his philanthropic work and has been involved in several social causes, including education and healthcare initiatives. He is also a brand ambassador for several major companies and has been named one of the most marketable athletes in the world by SportsPro.\n",
      "\n",
      "Overall, MS Dhoni is a true legend of Indian cricket and is widely respected and admired by fans and players alike. His impact on the game both on and off the field is immeasurable, and his legacy will continue to inspire future generations of cricketers. ...\n"
     ]
    }
   ],
   "source": [
    "query = \"Tell me about ms dhoni.\"\n",
    "print(\"🤖 Query:\", query)\n",
    "\n",
    "response = client.text_generation(\n",
    "    prompt=f\"[INST] {query} [/INST]\", \n",
    "    max_new_tokens=40000\n",
    ")\n",
    "\n",
    "print(\"\\n📝 Response:\\n\", response[:40000], \"...\")\n",
    "\n",
    "db = VzDatabase()\n",
    "db.insert(\"Result\", response)\n"
   ]
  },
  {
   "cell_type": "code",
   "execution_count": null,
   "id": "deae8ebe",
   "metadata": {},
   "outputs": [],
   "source": []
  }
 ],
 "metadata": {
  "kernelspec": {
   "display_name": "agentic_virtual_env",
   "language": "python",
   "name": "python3"
  },
  "language_info": {
   "codemirror_mode": {
    "name": "ipython",
    "version": 3
   },
   "file_extension": ".py",
   "mimetype": "text/x-python",
   "name": "python",
   "nbconvert_exporter": "python",
   "pygments_lexer": "ipython3",
   "version": "3.13.1"
  }
 },
 "nbformat": 4,
 "nbformat_minor": 5
}
