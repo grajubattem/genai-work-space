{
 "cells": [
  {
   "cell_type": "code",
   "execution_count": 13,
   "id": "7933ac91",
   "metadata": {},
   "outputs": [],
   "source": [
    "!pip install langchain langchain-community python-dotenv --quiet\n"
   ]
  },
  {
   "cell_type": "code",
   "execution_count": 14,
   "id": "c8bcbf9f",
   "metadata": {},
   "outputs": [],
   "source": [
    "import os\n",
    "from dotenv import load_dotenv\n",
    "\n",
    "load_dotenv()\n",
    "os.environ[\"TOGETHER_API_KEY\"] = os.getenv(\"TOGETHER_API_KEY\")\n",
    "\n",
    "if not os.environ[\"TOGETHER_API_KEY\"]:\n",
    "    raise ValueError(\"❗ Please add TOGETHER_API_KEY to your .env file.\")\n"
   ]
  },
  {
   "cell_type": "code",
   "execution_count": 15,
   "id": "92e243e2",
   "metadata": {},
   "outputs": [
    {
     "name": "stdout",
     "output_type": "stream",
     "text": [
      "✅ TogetherAI LLM ready.\n"
     ]
    }
   ],
   "source": [
    "from langchain_community.llms import Together\n",
    "\n",
    "llm = Together(\n",
    "    model=\"mistralai/Mistral-7B-Instruct-v0.1\",  # You can also try other models like 'mistralai/Mixtral-8x7B-Instruct-v0.1'\n",
    "    temperature=0.7,\n",
    "    max_tokens=512,\n",
    "    together_api_key=os.environ[\"TOGETHER_API_KEY\"]\n",
    ")\n",
    "\n",
    "print(\"✅ TogetherAI LLM ready.\")\n"
   ]
  },
  {
   "cell_type": "code",
   "execution_count": 16,
   "id": "1250ceb0",
   "metadata": {},
   "outputs": [],
   "source": [
    "import sqlite3\n",
    "\n",
    "class VzDatabase:\n",
    "    def __init__(self, db_path=\"vz1.db\"):\n",
    "        self.conn = sqlite3.connect(db_path)\n",
    "        self.cursor = self.conn.cursor()\n",
    "        self._create_schema()\n",
    "\n",
    "    def _create_schema(self):\n",
    "        self.cursor.execute(\"\"\"\n",
    "            CREATE TABLE IF NOT EXISTS info (\n",
    "                id INTEGER PRIMARY KEY AUTOINCREMENT,\n",
    "                name TEXT,\n",
    "                description TEXT\n",
    "            )\n",
    "        \"\"\")\n",
    "        self.conn.commit()\n",
    "\n",
    "    def insert(self, name, description):\n",
    "        self.cursor.execute(\"INSERT INTO info (name, description) VALUES (?, ?)\", (name, description))\n",
    "        self.conn.commit()\n",
    "\n",
    "    def fetch_all(self):\n",
    "        self.cursor.execute(\"SELECT * FROM info\")\n",
    "        return self.cursor.fetchall()\n"
   ]
  },
  {
   "cell_type": "code",
   "execution_count": 19,
   "id": "e35fa04b",
   "metadata": {},
   "outputs": [
    {
     "name": "stdout",
     "output_type": "stream",
     "text": [
      "🤖 Asking TogetherAI:\n",
      " Tell me about amrita vishwa vidyapeetham, Coimbatore.\n",
      "\n",
      "📝 Response:\n",
      " \n",
      "\n",
      "V. Amrita Vishwa Vidyapeetham, Coimbatore is a deemed university which was established in 1964. It is a non-profit institution of higher learning which offers undergraduate and postgraduate programs in various fields of study. The university is known for its emphasis on experiential learning and hands-on training, and has a reputation for producing well-rounded and employable graduates. The univ ...\n"
     ]
    }
   ],
   "source": [
    "query = \"Tell me about amrita vishwa vidyapeetham, Coimbatore.\"\n",
    "print(\"🤖 Asking TogetherAI:\\n\", query)\n",
    "\n",
    "response = llm.invoke(query)\n",
    "print(\"\\n📝 Response:\\n\", response[:400], \"...\")\n",
    "\n",
    "\n"
   ]
  },
  {
   "cell_type": "code",
   "execution_count": null,
   "id": "9657fa5c",
   "metadata": {},
   "outputs": [],
   "source": []
  }
 ],
 "metadata": {
  "kernelspec": {
   "display_name": "agentic_virtual_env",
   "language": "python",
   "name": "python3"
  },
  "language_info": {
   "codemirror_mode": {
    "name": "ipython",
    "version": 3
   },
   "file_extension": ".py",
   "mimetype": "text/x-python",
   "name": "python",
   "nbconvert_exporter": "python",
   "pygments_lexer": "ipython3",
   "version": "3.13.1"
  }
 },
 "nbformat": 4,
 "nbformat_minor": 5
}
